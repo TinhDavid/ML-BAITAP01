{
  "cells": [
    {
      "cell_type": "code",
      "execution_count": null,
      "metadata": {
        "id": "KKDmNc9YZVzD"
      },
      "outputs": [],
      "source": [
        "%matplotlib inline"
      ]
    },
    {
      "cell_type": "markdown",
      "metadata": {
        "id": "JQqi5PJPZVzI"
      },
      "source": [
        "\n",
        "Training a Classifier\n",
        "=====================\n",
        "\n",
        "This is it. You have seen how to define neural networks, compute loss and make\n",
        "updates to the weights of the network.\n",
        "\n",
        "Now you might be thinking,\n",
        "\n",
        "What about data?\n",
        "----------------\n",
        "\n",
        "Generally, when you have to deal with image, text, audio or video data,\n",
        "you can use standard python packages that load data into a numpy array.\n",
        "Then you can convert this array into a ``torch.*Tensor``.\n",
        "\n",
        "-  For images, packages such as Pillow, OpenCV are useful\n",
        "-  For audio, packages such as scipy and librosa\n",
        "-  For text, either raw Python or Cython based loading, or NLTK and\n",
        "   SpaCy are useful\n",
        "\n",
        "Specifically for vision, we have created a package called\n",
        "``torchvision``, that has data loaders for common datasets such as\n",
        "Imagenet, CIFAR10, MNIST, etc. and data transformers for images, viz.,\n",
        "``torchvision.datasets`` and ``torch.utils.data.DataLoader``.\n",
        "\n",
        "This provides a huge convenience and avoids writing boilerplate code.\n",
        "\n",
        "For this tutorial, we will use the CIFAR10 dataset.\n",
        "It has the classes: ‘airplane’, ‘automobile’, ‘bird’, ‘cat’, ‘deer’,\n",
        "‘dog’, ‘frog’, ‘horse’, ‘ship’, ‘truck’. The images in CIFAR-10 are of\n",
        "size 3x32x32, i.e. 3-channel color images of 32x32 pixels in size.\n",
        "\n",
        ".. figure:: /_static/img/cifar10.png\n",
        "   :alt: cifar10\n",
        "\n",
        "   cifar10\n",
        "\n",
        "\n",
        "Training an image classifier\n",
        "----------------------------\n",
        "\n",
        "We will do the following steps in order:\n",
        "\n",
        "1. Load and normalizing the CIFAR10 training and test datasets using\n",
        "   ``torchvision``\n",
        "2. Define a Convolution Neural Network\n",
        "3. Define a loss function\n",
        "4. Train the network on the training data\n",
        "5. Test the network on the test data\n",
        "\n",
        "1. Loading and normalizing CIFAR10\n",
        "^^^^^^^^^^^^^^^^^^^^^^^^^^^^^^^^^^\n",
        "\n",
        "Using ``torchvision``, it’s extremely easy to load CIFAR10.\n",
        "\n"
      ]
    },
    {
      "cell_type": "code",
      "execution_count": 13,
      "metadata": {
        "id": "fzZyiBS6ZVzM"
      },
      "outputs": [],
      "source": [
        "import torch\n",
        "import torchvision\n",
        "import torchvision.transforms as transforms"
      ]
    },
    {
      "cell_type": "markdown",
      "metadata": {
        "id": "v9Z4tkJpZVzN"
      },
      "source": [
        "The output of torchvision datasets are PILImage images of range [0, 1].\n",
        "We transform them to Tensors of normalized range [-1, 1].\n",
        "\n"
      ]
    },
    {
      "cell_type": "code",
      "execution_count": 14,
      "metadata": {
        "id": "_tlDGfrFZVzN",
        "outputId": "bb824d3b-dbc7-4c1c-d2d4-4cc6bf57bd8c",
        "colab": {
          "base_uri": "https://localhost:8080/"
        }
      },
      "outputs": [
        {
          "output_type": "stream",
          "name": "stderr",
          "text": [
            "100%|██████████| 170M/170M [00:13<00:00, 12.9MB/s]\n"
          ]
        }
      ],
      "source": [
        "transform = transforms.Compose(\n",
        "    [transforms.ToTensor(),\n",
        "     transforms.Normalize((0.5, 0.5, 0.5), (0.5, 0.5, 0.5))])\n",
        "\n",
        "trainset = torchvision.datasets.CIFAR10(root='./data', train=True,\n",
        "                                        download=True, transform=transform)\n",
        "trainloader = torch.utils.data.DataLoader(trainset, batch_size=4,\n",
        "                                          shuffle=True, num_workers=2)\n",
        "\n",
        "testset = torchvision.datasets.CIFAR10(root='./data', train=False,\n",
        "                                       download=True, transform=transform)\n",
        "testloader = torch.utils.data.DataLoader(testset, batch_size=4,\n",
        "                                         shuffle=False, num_workers=2)\n",
        "\n",
        "classes = ('plane', 'car', 'bird', 'cat',\n",
        "           'deer', 'dog', 'frog', 'horse', 'ship', 'truck')"
      ]
    },
    {
      "cell_type": "markdown",
      "metadata": {
        "id": "YOsIYVqiZVzO"
      },
      "source": [
        "Let us show some of the training images, for fun.\n",
        "\n"
      ]
    },
    {
      "cell_type": "code",
      "execution_count": 15,
      "metadata": {
        "id": "ZZjkFS-7ZVzO",
        "outputId": "2ea1660b-2218-4629-8a1f-90834d59738b",
        "colab": {
          "base_uri": "https://localhost:8080/",
          "height": 210
        }
      },
      "outputs": [
        {
          "output_type": "stream",
          "name": "stdout",
          "text": [
            " frog   dog   cat  deer\n"
          ]
        },
        {
          "output_type": "display_data",
          "data": {
            "text/plain": [
              "<Figure size 640x480 with 1 Axes>"
            ],
            "image/png": "[encoded data removed]"
          },
          "metadata": {}
        }
      ],
      "source": [
        "import matplotlib.pyplot as plt\n",
        "import numpy as np\n",
        "\n",
        "# functions to show an image\n",
        "\n",
        "\n",
        "def imshow(img):\n",
        "    img = img / 2 + 0.5     # unnormalize\n",
        "    npimg = img.numpy()\n",
        "    plt.imshow(np.transpose(npimg, (1, 2, 0)))\n",
        "\n",
        "\n",
        "# get some random training images\n",
        "dataiter = iter(trainloader)\n",
        "images, labels = next(dataiter)\n",
        "\n",
        "# show images\n",
        "imshow(torchvision.utils.make_grid(images))\n",
        "# print labels\n",
        "print(' '.join('%5s' % classes[labels[j]] for j in range(4)))"
      ]
    },
    {
      "cell_type": "markdown",
      "metadata": {
        "id": "33C_sF0WZVzP"
      },
      "source": [
        "2. Define a Convolution Neural Network\n",
        "^^^^^^^^^^^^^^^^^^^^^^^^^^^^^^^^^^^^^^\n",
        "Copy the neural network from the Neural Networks section before and modify it to\n",
        "take 3-channel images (instead of 1-channel images as it was defined).\n",
        "\n"
      ]
    },
    {
      "cell_type": "code",
      "execution_count": 16,
      "metadata": {
        "id": "62a3up5TZVzP",
        "outputId": "5bc0a1f2-3fb1-46cb-9989-1135f9bcbde3",
        "colab": {
          "base_uri": "https://localhost:8080/"
        }
      },
      "outputs": [
        {
          "output_type": "stream",
          "name": "stdout",
          "text": [
            "Net(\n",
            "  (conv1): Conv2d(3, 128, kernel_size=(3, 3), stride=(1, 1), padding=(1, 1))\n",
            "  (relu1): ReLU()\n",
            "  (branch_a): Sequential(\n",
            "    (0): Conv2d(128, 16, kernel_size=(5, 5), stride=(1, 1), padding=(2, 2))\n",
            "    (1): ReLU()\n",
            "    (2): Conv2d(16, 8, kernel_size=(5, 5), stride=(1, 1), padding=(2, 2))\n",
            "    (3): ReLU()\n",
            "  )\n",
            "  (branch_b): Sequential(\n",
            "    (0): Conv2d(128, 16, kernel_size=(3, 3), stride=(1, 1), padding=(1, 1))\n",
            "    (1): ReLU()\n",
            "    (2): Conv2d(16, 16, kernel_size=(3, 3), stride=(1, 1), padding=(1, 1))\n",
            "    (3): ReLU()\n",
            "    (4): Conv2d(16, 8, kernel_size=(3, 3), stride=(1, 1), padding=(1, 1))\n",
            "    (5): ReLU()\n",
            "  )\n",
            "  (fc1): Linear(in_features=16384, out_features=256, bias=True)\n",
            "  (fc2): Linear(in_features=256, out_features=128, bias=True)\n",
            "  (fc3): Linear(in_features=128, out_features=10, bias=True)\n",
            ")\n",
            "----------------------------------------------------------------\n",
            "        Layer (type)               Output Shape         Param #\n",
            "================================================================\n",
            "            Conv2d-1          [-1, 128, 32, 32]           3,584\n",
            "              ReLU-2          [-1, 128, 32, 32]               0\n",
            "            Conv2d-3           [-1, 16, 32, 32]          51,216\n",
            "              ReLU-4           [-1, 16, 32, 32]               0\n",
            "            Conv2d-5            [-1, 8, 32, 32]           3,208\n",
            "              ReLU-6            [-1, 8, 32, 32]               0\n",
            "            Conv2d-7           [-1, 16, 32, 32]          18,448\n",
            "              ReLU-8           [-1, 16, 32, 32]               0\n",
            "            Conv2d-9           [-1, 16, 32, 32]           2,320\n",
            "             ReLU-10           [-1, 16, 32, 32]               0\n",
            "           Conv2d-11            [-1, 8, 32, 32]           1,160\n",
            "             ReLU-12            [-1, 8, 32, 32]               0\n",
            "           Linear-13                  [-1, 256]       4,194,560\n",
            "           Linear-14                  [-1, 128]          32,896\n",
            "           Linear-15                   [-1, 10]           1,290\n",
            "================================================================\n",
            "Total params: 4,308,682\n",
            "Trainable params: 4,308,682\n",
            "Non-trainable params: 0\n",
            "----------------------------------------------------------------\n",
            "Input size (MB): 0.01\n",
            "Forward/backward pass size (MB): 3.00\n",
            "Params size (MB): 16.44\n",
            "Estimated Total Size (MB): 19.45\n",
            "----------------------------------------------------------------\n"
          ]
        }
      ],
      "source": [
        "import torch.nn as nn\n",
        "import torch.nn.functional as F\n",
        "\n",
        "class Net(nn.Module):\n",
        "    def __init__(self, num_classes=10):\n",
        "        super(Net, self).__init__()\n",
        "\n",
        "        # Conv đầu tiên: 3 → 128 kênh\n",
        "        self.conv1 = nn.Conv2d(3, 128, kernel_size=3, padding=1)  # 32x32x128\n",
        "        self.relu1 = nn.ReLU()\n",
        "\n",
        "        # Nhánh A: 2 Conv 5x5, output 8 kênh\n",
        "        self.branch_a = nn.Sequential(\n",
        "            nn.Conv2d(128, 16, kernel_size=5, padding=2),  # 32x32x16\n",
        "            nn.ReLU(),\n",
        "            nn.Conv2d(16, 8, kernel_size=5, padding=2),    # 32x32x8\n",
        "            nn.ReLU()\n",
        "        )\n",
        "\n",
        "        # Nhánh B: 3 Conv 3x3, output 8 kênh\n",
        "        self.branch_b = nn.Sequential(\n",
        "            nn.Conv2d(128, 16, kernel_size=3, padding=1),  # 32x32x16\n",
        "            nn.ReLU(),\n",
        "            nn.Conv2d(16, 16, kernel_size=3, padding=1),   # 32x32x16\n",
        "            nn.ReLU(),\n",
        "            nn.Conv2d(16, 8, kernel_size=3, padding=1),    # 32x32x8\n",
        "            nn.ReLU()\n",
        "        )\n",
        "\n",
        "        # Fully Connected layers: input = 16 x 32 x 32\n",
        "        self.fc1 = nn.Linear(32 * 32 * 16, 256)\n",
        "        self.fc2 = nn.Linear(256, 128)\n",
        "        self.fc3 = nn.Linear(128, num_classes)\n",
        "\n",
        "    def forward(self, x):\n",
        "        x = self.conv1(x)  # [B, 128, 32, 32]\n",
        "        x = self.relu1(x)\n",
        "\n",
        "        a = self.branch_a(x)  # [B, 8, 32, 32]\n",
        "        b = self.branch_b(x)  # [B, 8, 32, 32]\n",
        "        x = torch.cat((a, b), dim=1)  # [B, 16, 32, 32]\n",
        "\n",
        "        x = x.view(x.size(0), -1)\n",
        "        x = F.relu(self.fc1(x))\n",
        "        x = F.relu(self.fc2(x))\n",
        "        x = self.fc3(x)\n",
        "        return x\n",
        "\n",
        "import torch\n",
        "device = torch.device(\"cuda\" if torch.cuda.is_available() else \"cpu\")\n",
        "net = Net()\n",
        "net.to(device)\n",
        "\n",
        "from torchsummary import summary\n",
        "print(net)\n",
        "summary(net, (3, 32, 32))"
      ]
    },
    {
      "cell_type": "markdown",
      "metadata": {
        "id": "WSQ06RHrZVzQ"
      },
      "source": [
        "3. Define a Loss function and optimizer\n",
        "^^^^^^^^^^^^^^^^^^^^^^^^^^^^^^^^^^^^^^^\n",
        "Let's use a Classification Cross-Entropy loss and SGD with momentum.\n",
        "\n"
      ]
    },
    {
      "cell_type": "code",
      "execution_count": 17,
      "metadata": {
        "id": "SRPGlB6JZVzR"
      },
      "outputs": [],
      "source": [
        "import torch.optim as optim\n",
        "\n",
        "criterion = nn.CrossEntropyLoss()\n",
        "optimizer = optim.SGD(net.parameters(), lr=0.001, momentum=0.9)"
      ]
    },
    {
      "cell_type": "markdown",
      "metadata": {
        "id": "7b6R0axYZVzR"
      },
      "source": [
        "4. Train the network\n",
        "^^^^^^^^^^^^^^^^^^^^\n",
        "\n",
        "This is when things start to get interesting.\n",
        "We simply have to loop over our data iterator, and feed the inputs to the\n",
        "network and optimize.\n",
        "\n"
      ]
    },
    {
      "cell_type": "code",
      "execution_count": 29,
      "metadata": {
        "id": "s2dlIiS8ZVzR",
        "outputId": "5753b2ed-d2cc-4e8b-a2fe-f1bd3490b3f4",
        "colab": {
          "base_uri": "https://localhost:8080/"
        }
      },
      "outputs": [
        {
          "output_type": "stream",
          "name": "stderr",
          "text": [
            "Exception ignored in: <function _MultiProcessingDataLoaderIter.__del__ at 0x7836a4baa7a0>\n",
            "Traceback (most recent call last):\n",
            "  File \"/usr/local/lib/python3.11/dist-packages/torch/utils/data/dataloader.py\", line 1618, in __del__\n",
            "    self._shutdown_workers()\n",
            "  File \"/usr/local/lib/python3.11/dist-packages/torch/utils/data/dataloader.py\", line 1601, in _shutdown_workers\n",
            "    if w.is_alive():\n",
            "       ^^^^^^^^^^^^\n",
            "  File \"/usr/lib/python3.11/multiprocessing/process.py\", line 160, in is_alive\n",
            "    assert self._parent_pid == os.getpid(), 'can only test a child process'\n",
            "           ^^^^^^^^^^^^^^^^^^^^^^^^^^^^^^^\n",
            "AssertionError: can only test a child process\n",
            "Exception ignored in: <function _MultiProcessingDataLoaderIter.__del__ at 0x7836a4baa7a0>\n",
            "Traceback (most recent call last):\n",
            "  File \"/usr/local/lib/python3.11/dist-packages/torch/utils/data/dataloader.py\", line 1618, in __del__\n",
            "    self._shutdown_workers()\n",
            "  File \"/usr/local/lib/python3.11/dist-packages/torch/utils/data/dataloader.py\", line 1601, in _shutdown_workers\n",
            "    if w.is_alive():\n",
            "       ^^^^^^^^^^^^\n",
            "  File \"/usr/lib/python3.11/multiprocessing/process.py\", line 160, in is_alive\n",
            "    assert self._parent_pid == os.getpid(), 'can only test a child process'\n",
            "           ^^^^^^^^^^^^^^^^^^^^^^^^^^^^^^^\n",
            "AssertionError: can only test a child process\n"
          ]
        },
        {
          "output_type": "stream",
          "name": "stdout",
          "text": [
            "[1,  2000] loss: 0.985\n",
            "[1,  4000] loss: 0.982\n",
            "[1,  6000] loss: 0.963\n",
            "[1,  8000] loss: 0.957\n",
            "[1, 10000] loss: 0.950\n",
            "[1, 12000] loss: 0.960\n",
            "[2,  2000] loss: 0.767\n",
            "[2,  4000] loss: 0.779\n",
            "[2,  6000] loss: 0.774\n",
            "[2,  8000] loss: 0.815\n",
            "[2, 10000] loss: 0.831\n",
            "[2, 12000] loss: 0.812\n",
            "[3,  2000] loss: 0.560\n",
            "[3,  4000] loss: 0.613\n",
            "[3,  6000] loss: 0.627\n",
            "[3,  8000] loss: 0.649\n",
            "[3, 10000] loss: 0.665\n",
            "[3, 12000] loss: 0.678\n",
            "[4,  2000] loss: 0.398\n",
            "[4,  4000] loss: 0.469\n",
            "[4,  6000] loss: 0.492\n",
            "[4,  8000] loss: 0.492\n",
            "[4, 10000] loss: 0.533\n",
            "[4, 12000] loss: 0.539\n",
            "[5,  2000] loss: 0.296\n",
            "[5,  4000] loss: 0.347\n",
            "[5,  6000] loss: 0.356\n",
            "[5,  8000] loss: 0.371\n",
            "[5, 10000] loss: 0.432\n",
            "[5, 12000] loss: 0.425\n",
            "[6,  2000] loss: 0.197\n",
            "[6,  4000] loss: 0.258\n",
            "[6,  6000] loss: 0.260\n",
            "[6,  8000] loss: 0.334\n",
            "[6, 10000] loss: 0.332\n",
            "[6, 12000] loss: 0.339\n",
            "[7,  2000] loss: 0.160\n",
            "[7,  4000] loss: 0.177\n",
            "[7,  6000] loss: 0.211\n",
            "[7,  8000] loss: 0.247\n",
            "[7, 10000] loss: 0.270\n",
            "[7, 12000] loss: 0.271\n",
            "[8,  2000] loss: 0.130\n",
            "[8,  4000] loss: 0.162\n",
            "[8,  6000] loss: 0.189\n",
            "[8,  8000] loss: 0.208\n",
            "[8, 10000] loss: 0.233\n",
            "[8, 12000] loss: 0.242\n",
            "[9,  2000] loss: 0.135\n",
            "[9,  4000] loss: 0.132\n",
            "[9,  6000] loss: 0.166\n",
            "[9,  8000] loss: 0.181\n",
            "[9, 10000] loss: 0.197\n",
            "[9, 12000] loss: 0.195\n",
            "[10,  2000] loss: 0.118\n",
            "[10,  4000] loss: 0.149\n",
            "[10,  6000] loss: 0.155\n",
            "[10,  8000] loss: 0.180\n",
            "[10, 10000] loss: 0.156\n",
            "[10, 12000] loss: 0.196\n",
            "[11,  2000] loss: 0.096\n",
            "[11,  4000] loss: 0.090\n",
            "[11,  6000] loss: 0.167\n",
            "[11,  8000] loss: 0.138\n",
            "[11, 10000] loss: 0.139\n",
            "[11, 12000] loss: 0.152\n",
            "[12,  2000] loss: 0.098\n",
            "[12,  4000] loss: 0.119\n",
            "[12,  6000] loss: 0.120\n",
            "[12,  8000] loss: 0.123\n",
            "[12, 10000] loss: 0.134\n",
            "[12, 12000] loss: 0.149\n",
            "[13,  2000] loss: 0.060\n",
            "[13,  4000] loss: 0.070\n",
            "[13,  6000] loss: 0.111\n",
            "[13,  8000] loss: 0.118\n",
            "[13, 10000] loss: 0.108\n",
            "[13, 12000] loss: 0.123\n",
            "[14,  2000] loss: 0.074\n",
            "[14,  4000] loss: 0.085\n",
            "[14,  6000] loss: 0.115\n",
            "[14,  8000] loss: 0.107\n",
            "[14, 10000] loss: 0.120\n",
            "[14, 12000] loss: 0.131\n",
            "[15,  2000] loss: 0.052\n",
            "[15,  4000] loss: 0.111\n",
            "[15,  6000] loss: 0.121\n",
            "[15,  8000] loss: 0.102\n",
            "[15, 10000] loss: 0.147\n",
            "[15, 12000] loss: 0.113\n",
            "[16,  2000] loss: 0.085\n",
            "[16,  4000] loss: 0.068\n",
            "[16,  6000] loss: 0.094\n",
            "[16,  8000] loss: 0.126\n",
            "[16, 10000] loss: 0.088\n",
            "[16, 12000] loss: 0.132\n",
            "[17,  2000] loss: 0.062\n",
            "[17,  4000] loss: 0.062\n",
            "[17,  6000] loss: 0.089\n",
            "[17,  8000] loss: 0.072\n",
            "[17, 10000] loss: 0.121\n",
            "[17, 12000] loss: 0.104\n",
            "[18,  2000] loss: 0.050\n",
            "[18,  4000] loss: 0.064\n",
            "[18,  6000] loss: 0.083\n",
            "[18,  8000] loss: 0.102\n",
            "[18, 10000] loss: 0.107\n",
            "[18, 12000] loss: 0.104\n",
            "[19,  2000] loss: 0.064\n",
            "[19,  4000] loss: 0.064\n",
            "[19,  6000] loss: 0.094\n",
            "[19,  8000] loss: 0.087\n",
            "[19, 10000] loss: 0.100\n",
            "[19, 12000] loss: 0.095\n",
            "[20,  2000] loss: 0.059\n",
            "[20,  4000] loss: 0.066\n",
            "[20,  6000] loss: 0.068\n",
            "[20,  8000] loss: 0.056\n",
            "[20, 10000] loss: 0.112\n",
            "[20, 12000] loss: 0.110\n",
            "[21,  2000] loss: 0.052\n",
            "[21,  4000] loss: 0.065\n",
            "[21,  6000] loss: 0.066\n",
            "[21,  8000] loss: 0.067\n",
            "[21, 10000] loss: 0.097\n",
            "[21, 12000] loss: 0.082\n",
            "[22,  2000] loss: 0.057\n",
            "[22,  4000] loss: 0.056\n",
            "[22,  6000] loss: 0.088\n",
            "[22,  8000] loss: 0.052\n",
            "[22, 10000] loss: 0.119\n",
            "[22, 12000] loss: 0.071\n",
            "[23,  2000] loss: 0.059\n",
            "[23,  4000] loss: 0.062\n",
            "[23,  6000] loss: 0.078\n",
            "[23,  8000] loss: 0.073\n",
            "[23, 10000] loss: 0.125\n",
            "[23, 12000] loss: 0.088\n",
            "[24,  2000] loss: 0.052\n",
            "[24,  4000] loss: 0.060\n",
            "[24,  6000] loss: 0.055\n",
            "[24,  8000] loss: 0.066\n",
            "[24, 10000] loss: 0.084\n",
            "[24, 12000] loss: 0.092\n",
            "[25,  2000] loss: 0.059\n",
            "[25,  4000] loss: 0.044\n",
            "[25,  6000] loss: 0.071\n",
            "[25,  8000] loss: 0.065\n",
            "[25, 10000] loss: 0.091\n",
            "[25, 12000] loss: 0.084\n",
            "[26,  2000] loss: 0.065\n",
            "[26,  4000] loss: 0.058\n",
            "[26,  6000] loss: 0.089\n",
            "[26,  8000] loss: 0.076\n",
            "[26, 10000] loss: 0.086\n",
            "[26, 12000] loss: 0.097\n",
            "[27,  2000] loss: 0.080\n",
            "[27,  4000] loss: 0.094\n",
            "[27,  6000] loss: 0.088\n",
            "[27,  8000] loss: 0.067\n",
            "[27, 10000] loss: 0.113\n",
            "[27, 12000] loss: 0.106\n",
            "[28,  2000] loss: 0.071\n",
            "[28,  4000] loss: 0.074\n",
            "[28,  6000] loss: 0.098\n",
            "[28,  8000] loss: 0.104\n",
            "[28, 10000] loss: 0.122\n",
            "[28, 12000] loss: 0.094\n",
            "[29,  2000] loss: 0.050\n",
            "[29,  4000] loss: 0.077\n",
            "[29,  6000] loss: 0.083\n",
            "[29,  8000] loss: 0.070\n",
            "[29, 10000] loss: 0.074\n",
            "[29, 12000] loss: 0.084\n",
            "[30,  2000] loss: 0.038\n",
            "[30,  4000] loss: 0.051\n",
            "[30,  6000] loss: 0.086\n",
            "[30,  8000] loss: 0.088\n",
            "[30, 10000] loss: 0.049\n",
            "[30, 12000] loss: 0.084\n",
            "Finished Training\n"
          ]
        }
      ],
      "source": [
        "for epoch in range(30):  # loop over the dataset multiple times\n",
        "\n",
        "    running_loss = 0.0\n",
        "    for i, data in enumerate(trainloader, 0):\n",
        "        # get the inputs\n",
        "        inputs, labels = data\n",
        "        inputs, labels = inputs.to(device), labels.to(device)\n",
        "\n",
        "        # zero the parameter gradients\n",
        "        optimizer.zero_grad()\n",
        "\n",
        "        # forward + backward + optimize\n",
        "        outputs = net(inputs)\n",
        "        loss = criterion(outputs, labels)\n",
        "        loss.backward()\n",
        "        optimizer.step()\n",
        "\n",
        "        # print statistics\n",
        "        running_loss += loss.item()\n",
        "        if i % 2000 == 1999:    # print every 2000 mini-batches\n",
        "            print('[%d, %5d] loss: %.3f' %\n",
        "                  (epoch + 1, i + 1, running_loss / 2000))\n",
        "            running_loss = 0.0\n",
        "\n",
        "print('Finished Training')"
      ]
    },
    {
      "cell_type": "markdown",
      "metadata": {
        "id": "dGdDQ1LpZVzS"
      },
      "source": [
        "5. Test the network on the test data\n",
        "^^^^^^^^^^^^^^^^^^^^^^^^^^^^^^^^^^^^\n",
        "\n",
        "We have trained the network for 2 passes over the training dataset.\n",
        "But we need to check if the network has learnt anything at all.\n",
        "\n",
        "We will check this by predicting the class label that the neural network\n",
        "outputs, and checking it against the ground-truth. If the prediction is\n",
        "correct, we add the sample to the list of correct predictions.\n",
        "\n",
        "Okay, first step. Let us display an image from the test set to get familiar.\n",
        "\n"
      ]
    },
    {
      "cell_type": "code",
      "execution_count": 30,
      "metadata": {
        "id": "VZhkfELsZVzS",
        "outputId": "9c6f02e9-2a66-4bfa-e07c-9f57c2dd1f35",
        "colab": {
          "base_uri": "https://localhost:8080/",
          "height": 210
        }
      },
      "outputs": [
        {
          "output_type": "stream",
          "name": "stdout",
          "text": [
            "GroundTruth:    cat  ship  ship plane\n"
          ]
        },
        {
          "output_type": "display_data",
          "data": {
            "text/plain": [
              "<Figure size 640x480 with 1 Axes>"
            ],
            "image/png": "[encoded data removed]"
          },
          "metadata": {}
        }
      ],
      "source": [
        "dataiter = iter(testloader)\n",
        "images, labels = next(dataiter) # Changed dataiter.next() to next(dataiter)\n",
        "\n",
        "# print images\n",
        "imshow(torchvision.utils.make_grid(images))\n",
        "print('GroundTruth: ', ' '.join('%5s' % classes[labels[j]] for j in range(4)))"
      ]
    },
    {
      "cell_type": "markdown",
      "metadata": {
        "id": "p_RjCrwXZVzS"
      },
      "source": [
        "Okay, now let us see what the neural network thinks these examples above are:\n",
        "\n"
      ]
    },
    {
      "cell_type": "code",
      "execution_count": 31,
      "metadata": {
        "id": "IGx7jm2iZVzS"
      },
      "outputs": [],
      "source": [
        "outputs = net(images.to(device))"
      ]
    },
    {
      "cell_type": "markdown",
      "metadata": {
        "id": "ICi3EF0ZZVzT"
      },
      "source": [
        "The outputs are energies for the 10 classes.\n",
        "Higher the energy for a class, the more the network\n",
        "thinks that the image is of the particular class.\n",
        "So, let's get the index of the highest energy:\n",
        "\n"
      ]
    },
    {
      "cell_type": "code",
      "execution_count": 32,
      "metadata": {
        "id": "2nZ4ju4qZVzT",
        "outputId": "224204d6-e914-425e-8edd-036183e2bc63",
        "colab": {
          "base_uri": "https://localhost:8080/"
        }
      },
      "outputs": [
        {
          "output_type": "stream",
          "name": "stdout",
          "text": [
            "Predicted:    cat  ship plane plane\n"
          ]
        }
      ],
      "source": [
        "_, predicted = torch.max(outputs, 1)\n",
        "\n",
        "print('Predicted: ', ' '.join('%5s' % classes[predicted[j]]\n",
        "                              for j in range(4)))"
      ]
    },
    {
      "cell_type": "markdown",
      "metadata": {
        "id": "meGev5HRZVzT"
      },
      "source": [
        "The results seem pretty good.\n",
        "\n",
        "Let us look at how the network performs on the whole dataset.\n",
        "\n"
      ]
    },
    {
      "cell_type": "code",
      "execution_count": 34,
      "metadata": {
        "id": "P83vkwpTZVzT",
        "outputId": "10d9a0d9-277d-41ca-c811-ea6fdcaa16b5",
        "colab": {
          "base_uri": "https://localhost:8080/"
        }
      },
      "outputs": [
        {
          "output_type": "stream",
          "name": "stdout",
          "text": [
            "Accuracy of the network on the 10000 test images: 60 %\n"
          ]
        }
      ],
      "source": [
        "correct = 0\n",
        "total = 0\n",
        "with torch.no_grad():\n",
        "    for data in testloader:\n",
        "        images, labels = data\n",
        "        # Move images and labels to the device (GPU if available)\n",
        "        images, labels = images.to(device), labels.to(device)\n",
        "        outputs = net(images)\n",
        "        _, predicted = torch.max(outputs.data, 1)\n",
        "        total += labels.size(0)\n",
        "        correct += (predicted == labels).sum().item()\n",
        "\n",
        "print('Accuracy of the network on the 10000 test images: %d %%' % (\n",
        "    100 * correct / total))"
      ]
    },
    {
      "cell_type": "markdown",
      "metadata": {
        "id": "DZtGwZ6NZVzT"
      },
      "source": [
        "That looks waaay better than chance, which is 10% accuracy (randomly picking\n",
        "a class out of 10 classes).\n",
        "Seems like the network learnt something.\n",
        "\n",
        "Hmmm, what are the classes that performed well, and the classes that did\n",
        "not perform well:\n",
        "\n"
      ]
    },
    {
      "cell_type": "code",
      "execution_count": 35,
      "metadata": {
        "id": "yo9B-WGsZVzU",
        "outputId": "fce6c19e-08df-4ed0-a05d-3ffb16dcb455",
        "colab": {
          "base_uri": "https://localhost:8080/"
        }
      },
      "outputs": [
        {
          "output_type": "stream",
          "name": "stdout",
          "text": [
            "Accuracy of plane : 66 %\n",
            "Accuracy of   car : 76 %\n",
            "Accuracy of  bird : 48 %\n",
            "Accuracy of   cat : 35 %\n",
            "Accuracy of  deer : 50 %\n",
            "Accuracy of   dog : 52 %\n",
            "Accuracy of  frog : 69 %\n",
            "Accuracy of horse : 70 %\n",
            "Accuracy of  ship : 71 %\n",
            "Accuracy of truck : 65 %\n"
          ]
        }
      ],
      "source": [
        "class_correct = list(0. for i in range(10))\n",
        "class_total = list(0. for i in range(10))\n",
        "with torch.no_grad():\n",
        "    for data in testloader:\n",
        "        images, labels = data\n",
        "        images, labels = images.to(device), labels.to(device)\n",
        "        outputs = net(images)\n",
        "        _, predicted = torch.max(outputs, 1)\n",
        "        c = (predicted == labels).squeeze()\n",
        "        for i in range(4):\n",
        "            label = labels[i]\n",
        "            class_correct[label] += c[i].item()\n",
        "            class_total[label] += 1\n",
        "\n",
        "\n",
        "for i in range(10):\n",
        "    print('Accuracy of %5s : %2d %%' % (\n",
        "        classes[i], 100 * class_correct[i] / class_total[i]))"
      ]
    },
    {
      "cell_type": "markdown",
      "metadata": {
        "id": "37guY2ojZVzU"
      },
      "source": [
        "Okay, so what next?\n",
        "\n",
        "How do we run these neural networks on the GPU?\n",
        "\n",
        "Training on GPU\n",
        "----------------\n",
        "Just like how you transfer a Tensor on to the GPU, you transfer the neural\n",
        "net onto the GPU.\n",
        "\n",
        "Let's first define our device as the first visible cuda device if we have\n",
        "CUDA available:\n",
        "\n"
      ]
    },
    {
      "cell_type": "code",
      "execution_count": null,
      "metadata": {
        "id": "ryZbFMx-ZVzU"
      },
      "outputs": [],
      "source": [
        "device = torch.device(\"cuda:0\" if torch.cuda.is_available() else \"cpu\")\n",
        "\n",
        "# Assume that we are on a CUDA machine, then this should print a CUDA device:\n",
        "\n",
        "print(device)"
      ]
    },
    {
      "cell_type": "markdown",
      "metadata": {
        "id": "oi5JZWaOZVzU"
      },
      "source": [
        "The rest of this section assumes that `device` is a CUDA device.\n",
        "\n",
        "Then these methods will recursively go over all modules and convert their\n",
        "parameters and buffers to CUDA tensors:\n",
        "\n",
        ".. code:: python\n",
        "\n",
        "    net.to(device)\n",
        "\n",
        "\n",
        "Remember that you will have to send the inputs and targets at every step\n",
        "to the GPU too:\n",
        "\n",
        ".. code:: python\n",
        "\n",
        "        inputs, labels = inputs.to(device), labels.to(device)\n",
        "\n",
        "Why dont I notice MASSIVE speedup compared to CPU? Because your network\n",
        "is realllly small.\n",
        "\n",
        "**Exercise:** Try increasing the width of your network (argument 2 of\n",
        "the first ``nn.Conv2d``, and argument 1 of the second ``nn.Conv2d`` –\n",
        "they need to be the same number), see what kind of speedup you get.\n",
        "\n",
        "**Goals achieved**:\n",
        "\n",
        "- Understanding PyTorch's Tensor library and neural networks at a high level.\n",
        "- Train a small neural network to classify images\n",
        "\n",
        "Training on multiple GPUs\n",
        "-------------------------\n",
        "If you want to see even more MASSIVE speedup using all of your GPUs,\n",
        "please check out :doc:`data_parallel_tutorial`.\n",
        "\n",
        "Where do I go next?\n",
        "-------------------\n",
        "\n",
        "-  :doc:`Train neural nets to play video games </intermediate/reinforcement_q_learning>`\n",
        "-  `Train a state-of-the-art ResNet network on imagenet`_\n",
        "-  `Train a face generator using Generative Adversarial Networks`_\n",
        "-  `Train a word-level language model using Recurrent LSTM networks`_\n",
        "-  `More examples`_\n",
        "-  `More tutorials`_\n",
        "-  `Discuss PyTorch on the Forums`_\n",
        "-  `Chat with other users on Slack`_\n",
        "\n",
        "\n"
      ]
    }
  ],
  "metadata": {
    "kernelspec": {
      "display_name": "Python 3",
      "name": "python3"
    },
    "language_info": {
      "codemirror_mode": {
        "name": "ipython",
        "version": 3
      },
      "file_extension": ".py",
      "mimetype": "text/x-python",
      "name": "python",
      "nbconvert_exporter": "python",
      "pygments_lexer": "ipython3",
      "version": "3.6.6"
    },
    "colab": {
      "provenance": [],
      "gpuType": "T4"
    },
    "accelerator": "GPU"
  },
  "nbformat": 4,
  "nbformat_minor": 0
}